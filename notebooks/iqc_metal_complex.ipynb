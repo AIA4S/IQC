{
 "cells": [
  {
   "cell_type": "code",
   "execution_count": 29,
   "id": "bbf5bb30-8736-4811-931c-2c902bcd7c40",
   "metadata": {},
   "outputs": [
    {
     "name": "stdout",
     "output_type": "stream",
     "text": [
      "The autoreload extension is already loaded. To reload it, use:\n",
      "  %reload_ext autoreload\n"
     ]
    }
   ],
   "source": [
    "%load_ext autoreload\n",
    "%autoreload 2\n",
    "from iqc import viztools as vt\n",
    "import pandas as pd"
   ]
  },
  {
   "cell_type": "code",
   "execution_count": 33,
   "id": "df133e07",
   "metadata": {},
   "outputs": [],
   "source": [
    "file_url = \"REPLACE_WITH_URL\" \n",
    "json_list = vt.read_json_from_tar_gz(file_url)"
   ]
  },
  {
   "cell_type": "code",
   "execution_count": 36,
   "id": "0d6458bd",
   "metadata": {},
   "outputs": [
    {
     "data": {
      "application/vnd.jupyter.widget-view+json": {
       "model_id": "b5f6346fdecb402898ec26a96c80c704",
       "version_major": 2,
       "version_minor": 0
      },
      "text/plain": [
       "VBox(children=(HBox(children=(VBox(children=(Dropdown(description='Filter 1 by:', options=('none', 'number_of_…"
      ]
     },
     "metadata": {},
     "output_type": "display_data"
    }
   ],
   "source": [
    "df = pd.DataFrame(json_list)\n",
    "display_columns = [\n",
    "    'number_of_atoms', 'number_of_electrons', 'formula', 'smiles_changed',\n",
    "    'number_of_imaginary', 'G_eV', 'H_eV', 'S_eV/K', 'E_ZPE_eV', \n",
    "    'opt_time', 'vib_time', 'thermo_time'\n",
    "]\n",
    "vt.display_filtered_data(df, display_columns)"
   ]
  },
  {
   "cell_type": "code",
   "execution_count": null,
   "id": "375af092",
   "metadata": {},
   "outputs": [],
   "source": []
  }
 ],
 "metadata": {
  "kernelspec": {
   "display_name": "conda_chem_py310",
   "language": "python",
   "name": "python3"
  },
  "language_info": {
   "codemirror_mode": {
    "name": "ipython",
    "version": 3
   },
   "file_extension": ".py",
   "mimetype": "text/x-python",
   "name": "python",
   "nbconvert_exporter": "python",
   "pygments_lexer": "ipython3",
   "version": "3.12.8"
  }
 },
 "nbformat": 4,
 "nbformat_minor": 5
}
